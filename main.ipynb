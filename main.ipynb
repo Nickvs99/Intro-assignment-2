{
 "cells": [
  {
   "cell_type": "markdown",
   "metadata": {},
   "source": [
    "# Introduction to Computational science - Assignment 2\n",
    "Sander Broos, Nick van Santen"
   ]
  },
  {
   "cell_type": "code",
   "execution_count": 1,
   "metadata": {},
   "outputs": [],
   "source": [
    "# Imports\n",
    "import matplotlib.pyplot as plt\n",
    "import numpy as np"
   ]
  },
  {
   "cell_type": "code",
   "execution_count": 2,
   "metadata": {},
   "outputs": [],
   "source": [
    "# Run cell to increase font sizes. Usefull when saving plots\n",
    "SMALL_SIZE = 16\n",
    "MEDIUM_SIZE = 20\n",
    "BIGGER_SIZE = 24\n",
    "\n",
    "plt.rc('font', size=SMALL_SIZE)          # controls default text sizes\n",
    "plt.rc('axes', titlesize=SMALL_SIZE)     # fontsize of the axes title\n",
    "plt.rc('axes', labelsize=MEDIUM_SIZE)    # fontsize of the x and y labels\n",
    "plt.rc('xtick', labelsize=SMALL_SIZE)    # fontsize of the tick labels\n",
    "plt.rc('ytick', labelsize=SMALL_SIZE)    # fontsize of the tick labels\n",
    "plt.rc('legend', fontsize=SMALL_SIZE)    # legend fontsize\n",
    "plt.rc('figure', titlesize=BIGGER_SIZE)  # fontsize of the figure title"
   ]
  },
  {
   "cell_type": "code",
   "execution_count": 3,
   "metadata": {},
   "outputs": [],
   "source": [
    "class Event:\n",
    "\n",
    "    def __init__(self, name, rate, event):\n",
    "\n",
    "        self.name = name\n",
    "        self.event = event\n",
    "\n",
    "        self.rate = rate\n",
    "\n",
    "class Simulator:\n",
    "\n",
    "    def __init__(self, groups, events, max_time):\n",
    "\n",
    "        self.groups = groups\n",
    "\n",
    "        self.events = events\n",
    "\n",
    "        self.time = 0\n",
    "        self.max_time = max_time\n",
    "        self.time_steps = [0]\n",
    "    \n",
    "    def update(self):\n",
    "\n",
    "        \n",
    "        total_rate = sum([event.rate(self.groups) for event in self.events])\n",
    "\n",
    "        if total_rate == 0:\n",
    "            self.time = self.max_time\n",
    "            return\n",
    "\n",
    "        r1 = np.random.rand()\n",
    "        delta_time = -1 / total_rate * np.log(r1)\n",
    "\n",
    "        r2 = np.random.rand()\n",
    "        P = r2 * total_rate\n",
    "\n",
    "        event = self.determine_event(P)\n",
    "\n",
    "        self.time += delta_time\n",
    "\n",
    "        if self.time > self.max_time:\n",
    "            return\n",
    "\n",
    "        self.time_steps.append(self.time)\n",
    "        \n",
    "        # Apply event\n",
    "        event.event(self.groups, self.time)\n",
    "\n",
    "        \n",
    "    def determine_event(self, p):\n",
    "        \n",
    "        value = 0\n",
    "        for event in self.events:\n",
    "\n",
    "            value += event.rate(self.groups)\n",
    "\n",
    "            if value > p:\n",
    "                return event\n",
    "        \n",
    "        print(\"ERROR: No event found\")\n",
    "        return None\n",
    "\n",
    "    def run(self):\n",
    "\n",
    "        while self.time < self.max_time:\n",
    "            self.update()\n",
    "\n",
    "        for group in self.groups.values():\n",
    "\n",
    "            group.append_to_history(group.inhabitants, self.max_time)\n",
    "\n",
    "    def plot_group_levels(self):\n",
    "\n",
    "        for group in self.groups.values():\n",
    "\n",
    "            plt.plot(group.time_steps, group.history, label=group.name, drawstyle=\"steps-post\")\n",
    "\n",
    "        plt.legend()\n",
    "        plt.show()\n",
    "\n",
    "class Group:\n",
    "\n",
    "    def __init__(self, name, initial):\n",
    "        \n",
    "        self.name = name\n",
    "        self.inhabitants = initial\n",
    "        \n",
    "        self.history = [initial]\n",
    "        self.time_steps = [0]\n",
    "\n",
    "    def add_value(self, value, time):\n",
    "\n",
    "        self.inhabitants += value\n",
    "\n",
    "        self.append_to_history(self.inhabitants, time)\n",
    "\n",
    "    def append_to_history(self, value, time):\n",
    "        \n",
    "        self.history.append(value)\n",
    "        self.time_steps.append(time)\n"
   ]
  },
  {
   "cell_type": "code",
   "execution_count": 4,
   "metadata": {},
   "outputs": [
    {
     "data": {
      "image/png": "[encoded data removed]",
      "text/plain": [
       "<Figure size 432x288 with 1 Axes>"
      ]
     },
     "metadata": {
      "needs_background": "light"
     },
     "output_type": "display_data"
    }
   ],
   "source": [
    "groups = {\n",
    "    \"susceptible\": Group(\"susceptible\", 90),\n",
    "    \"infected\": Group(\"infected\", 10),\n",
    "    \"recovered\": Group(\"recovered\", 0),\n",
    "}\n",
    "\n",
    "def transmission_rate(groups):\n",
    "    return 10 * groups[\"infected\"].inhabitants * groups[\"susceptible\"].inhabitants\n",
    "\n",
    "def recovery_rate(groups):\n",
    "    return 5 * groups[\"infected\"].inhabitants\n",
    "\n",
    "def transmission_event(groups, time):\n",
    "\n",
    "    groups[\"infected\"].add_value(1, time)\n",
    "    groups[\"susceptible\"].add_value(-1, time)\n",
    "\n",
    "def recovery_event(groups, time):\n",
    "\n",
    "    groups[\"infected\"].add_value(-1, time)\n",
    "    groups[\"recovered\"].add_value(1, time)\n",
    "\n",
    "events = [\n",
    "    Event(\"transmission\", transmission_rate, transmission_event),\n",
    "    Event(\"recovery\", recovery_rate, recovery_event),\n",
    "]\n",
    "\n",
    "sim = Simulator(groups, events, 10)\n",
    "sim.run()\n",
    "\n",
    "sim.plot_group_levels()"
   ]
  },
  {
   "cell_type": "code",
   "execution_count": null,
   "metadata": {},
   "outputs": [],
   "source": []
  }
 ],
 "metadata": {
  "interpreter": {
   "hash": "a297ac84006f0f11ed5a87af9e7371e781f0b777a7d5c6194dad8a3a5f39a664"
  },
  "kernelspec": {
   "display_name": "Python 3.9.4 64-bit",
   "name": "python3"
  },
  "language_info": {
   "codemirror_mode": {
    "name": "ipython",
    "version": 3
   },
   "file_extension": ".py",
   "mimetype": "text/x-python",
   "name": "python",
   "nbconvert_exporter": "python",
   "pygments_lexer": "ipython3",
   "version": "3.9.4"
  },
  "orig_nbformat": 4
 },
 "nbformat": 4,
 "nbformat_minor": 2
}
