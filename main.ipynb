{
 "cells": [
  {
   "cell_type": "markdown",
   "metadata": {},
   "source": [
    "# Introduction to Computational science - Assignment 2\n",
    "Sander Broos, Nick van Santen"
   ]
  },
  {
   "cell_type": "code",
   "execution_count": 74,
   "metadata": {},
   "outputs": [],
   "source": [
    "# Imports\n",
    "from __future__ import annotations\n",
    "from ipywidgets import *\n",
    "\n",
    "import matplotlib.pyplot as plt\n",
    "import numpy as np\n",
    "\n",
    "from typing import Callable, List"
   ]
  },
  {
   "cell_type": "code",
   "execution_count": 75,
   "metadata": {},
   "outputs": [],
   "source": [
    "# Run cell to increase font sizes. Usefull when saving plots\n",
    "SMALL_SIZE = 16\n",
    "MEDIUM_SIZE = 20\n",
    "BIGGER_SIZE = 24\n",
    "\n",
    "plt.rc('font', size=SMALL_SIZE)          # controls default text sizes\n",
    "plt.rc('axes', titlesize=SMALL_SIZE)     # fontsize of the axes title\n",
    "plt.rc('axes', labelsize=MEDIUM_SIZE)    # fontsize of the x and y labels\n",
    "plt.rc('xtick', labelsize=SMALL_SIZE)    # fontsize of the tick labels\n",
    "plt.rc('ytick', labelsize=SMALL_SIZE)    # fontsize of the tick labels\n",
    "plt.rc('legend', fontsize=SMALL_SIZE)    # legend fontsize\n",
    "plt.rc('figure', titlesize=BIGGER_SIZE)  # fontsize of the figure title"
   ]
  },
  {
   "cell_type": "code",
   "execution_count": 76,
   "metadata": {},
   "outputs": [],
   "source": [
    "class Event:\n",
    "\n",
    "    def __init__(self, name: str, rate: Callable, event: dict):\n",
    "\n",
    "        self.name = name\n",
    "        self.event = event\n",
    "\n",
    "        self.rate = rate\n",
    "\n",
    "    def occur(self, groups, time):\n",
    "        \n",
    "        for group, value_to_add in self.event.items():\n",
    "            groups[group].add_value(value_to_add, time)\n",
    "\n",
    "class Simulator:\n",
    "\n",
    "    def __init__(self, groups: List[Group], events: List[Event], max_time: float):\n",
    "\n",
    "        self.groups = groups\n",
    "\n",
    "        self.events = events\n",
    "\n",
    "        self.time = 0\n",
    "        self.max_time = max_time\n",
    "        self.time_steps = [0]\n",
    "    \n",
    "    def update(self):\n",
    "\n",
    "        total_rate = sum([event.rate(self.groups) for event in self.events])\n",
    "\n",
    "        if total_rate == 0:\n",
    "            self.time = self.max_time\n",
    "            return\n",
    "\n",
    "        r1 = np.random.rand()\n",
    "        delta_time = -1 / total_rate * np.log(r1)\n",
    "        self.time += delta_time\n",
    "\n",
    "        if self.time > self.max_time:\n",
    "            return\n",
    "\n",
    "        self.time_steps.append(self.time)\n",
    "        \n",
    "        r2 = np.random.rand()\n",
    "        P = r2 * total_rate\n",
    "        event = self.determine_event(P)\n",
    "\n",
    "        # Apply event\n",
    "        event.occur(self.groups, self.time)\n",
    "\n",
    "        \n",
    "    def determine_event(self, p: float):\n",
    "        \n",
    "        value = 0\n",
    "        for event in self.events:\n",
    "\n",
    "            value += event.rate(self.groups)\n",
    "\n",
    "            if value > p:\n",
    "                return event\n",
    "        \n",
    "        print(\"ERROR: No event found\")\n",
    "        return None\n",
    "\n",
    "    def run(self):\n",
    "\n",
    "        while self.time < self.max_time:\n",
    "            self.update()\n",
    "\n",
    "        for group in self.groups.values():\n",
    "\n",
    "            group.append_to_history(group.number, self.max_time)\n",
    "\n",
    "    def plot_group_levels(self):\n",
    "\n",
    "        for group in self.groups.values():\n",
    "\n",
    "            plt.plot(group.time_steps, group.history, label=group.name, drawstyle=\"steps-post\")\n",
    "\n",
    "        plt.legend()\n",
    "        plt.show()\n",
    "        plt.close()\n",
    "\n",
    "class Group:\n",
    "\n",
    "    def __init__(self, name: str, initial: int):\n",
    "        \n",
    "        self.name = name\n",
    "        self.number = initial\n",
    "        \n",
    "        self.history = [initial]\n",
    "        self.time_steps = [0]\n",
    "\n",
    "    def add_value(self, value: int, time: float):\n",
    "\n",
    "        self.number += value\n",
    "\n",
    "        self.append_to_history(self.number, time)\n",
    "\n",
    "    def append_to_history(self, value: int, time: float):\n",
    "        \n",
    "        self.history.append(value)\n",
    "        self.time_steps.append(time)\n"
   ]
  },
  {
   "cell_type": "code",
   "execution_count": 77,
   "metadata": {},
   "outputs": [
    {
     "data": {
      "application/vnd.jupyter.widget-view+json": {
       "model_id": "9274a82155d34275bdd6f0b5c37168c9",
       "version_major": 2,
       "version_minor": 0
      },
      "text/plain": [
       "interactive(children=(FloatSlider(value=3.0, description='beta', max=5.0), FloatSlider(value=1.0, description=…"
      ]
     },
     "metadata": {},
     "output_type": "display_data"
    }
   ],
   "source": [
    "def sir_gillespie(beta=3, gamma=1, s_init=1000, i_init=5, r_init=0, max_time=10):\n",
    "    groups = {\n",
    "        \"susceptible\": Group(\"susceptible\", s_init),\n",
    "        \"infected\": Group(\"infected\", i_init),\n",
    "        \"recovered\": Group(\"recovered\", r_init),\n",
    "    }\n",
    "\n",
    "    events = [\n",
    "        Event(name=\"transmission\", \n",
    "              rate=lambda groups: beta * groups[\"infected\"].number * groups[\"susceptible\"].number / sum([group.number for group in groups.values()]), \n",
    "              event={\"infected\": 1, \"susceptible\": -1}),\n",
    "        Event(name=\"recovery\", \n",
    "              rate=lambda groups: gamma * groups[\"infected\"].number, \n",
    "              event={\"infected\": -1, \"recovered\": 1}),\n",
    "    ]\n",
    "\n",
    "    sim = Simulator(groups, events, max_time)\n",
    "    sim.run()\n",
    "    sim.plot_group_levels()\n",
    "\n",
    "interactive(sir_gillespie, beta=(0, 5.0), gamma=(0, 5.0), s_init=(0, 2000), i_init=(0, 1000), r_init=(0, 1000), max_time=(0, 100))"
   ]
  },
  {
   "cell_type": "code",
   "execution_count": null,
   "metadata": {},
   "outputs": [],
   "source": []
  }
 ],
 "metadata": {
  "interpreter": {
   "hash": "33f815d6a877ccc3380b7648109d6ea7487697bbc9c0643e4b4d74404381048e"
  },
  "kernelspec": {
   "display_name": "Python 3.7.1 64-bit ('base': conda)",
   "name": "python3"
  },
  "language_info": {
   "codemirror_mode": {
    "name": "ipython",
    "version": 3
   },
   "file_extension": ".py",
   "mimetype": "text/x-python",
   "name": "python",
   "nbconvert_exporter": "python",
   "pygments_lexer": "ipython3",
   "version": "3.7.1"
  },
  "orig_nbformat": 4
 },
 "nbformat": 4,
 "nbformat_minor": 2
}
